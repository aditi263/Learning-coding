{
  "nbformat": 4,
  "nbformat_minor": 0,
  "metadata": {
    "colab": {
      "provenance": []
    },
    "kernelspec": {
      "name": "python3",
      "display_name": "Python 3"
    },
    "language_info": {
      "name": "python"
    }
  },
  "cells": [
    {
      "cell_type": "markdown",
      "source": [
        "# Problem 1:\n",
        "\n",
        "Write a program to print following pattern:\n",
        "\n",
        "*****\n",
        "****\n",
        "***\n",
        "**\n",
        "*\n",
        "\n"
      ],
      "metadata": {
        "id": "O5pG8PqDlkvr"
      }
    },
    {
      "cell_type": "code",
      "execution_count": null,
      "metadata": {
        "id": "K8Q4QRsdlgzX"
      },
      "outputs": [],
      "source": [
        "# *****\n",
        "# ****\n",
        "# ***\n",
        "# **\n",
        "# *"
      ]
    },
    {
      "cell_type": "code",
      "source": [
        "for i in range(5,0,-1):\n",
        "  print('*'*i)"
      ],
      "metadata": {
        "id": "JpyCA7sYmUUv",
        "colab": {
          "base_uri": "https://localhost:8080/"
        },
        "outputId": "45029a95-04bf-4c19-80ef-bd358039a607"
      },
      "execution_count": null,
      "outputs": [
        {
          "output_type": "stream",
          "name": "stdout",
          "text": [
            "*****\n",
            "****\n",
            "***\n",
            "**\n",
            "*\n"
          ]
        }
      ]
    },
    {
      "cell_type": "code",
      "source": [
        "# *****\n",
        "# ****2\n",
        "# ***\n",
        "# **\n",
        "# *\n",
        "# **\n",
        "# ***\n",
        "# ****\n",
        "# *****"
      ],
      "metadata": {
        "id": "74MZcISenl3v"
      },
      "execution_count": null,
      "outputs": []
    },
    {
      "cell_type": "code",
      "source": [
        "for i in range(5,0,-1):\n",
        "  print('*'*i)\n",
        "for i in range(2,6,1):\n",
        "  print('*'*i)"
      ],
      "metadata": {
        "id": "enX2CUOcoH0D",
        "colab": {
          "base_uri": "https://localhost:8080/"
        },
        "outputId": "86c345c5-50d5-4025-8f2d-1be4d2bc2b23"
      },
      "execution_count": null,
      "outputs": [
        {
          "output_type": "stream",
          "name": "stdout",
          "text": [
            "*****\n",
            "****\n",
            "***\n",
            "**\n",
            "*\n",
            "**\n",
            "***\n",
            "****\n",
            "*****\n"
          ]
        }
      ]
    },
    {
      "cell_type": "code",
      "source": [
        "def fun1(num):\n",
        "  for i in range(num,0,-1):\n",
        "    print('*'*i)\n",
        "  for i in range(2,num+1,1):\n",
        "    print('*'*i)"
      ],
      "metadata": {
        "id": "JnKfC14cqM1e"
      },
      "execution_count": null,
      "outputs": []
    },
    {
      "cell_type": "code",
      "source": [
        "num = int(input(\"Enter the number for pattern:\"))\n",
        "fun1(num)"
      ],
      "metadata": {
        "id": "qx-Ym3tfEYSb",
        "colab": {
          "base_uri": "https://localhost:8080/"
        },
        "outputId": "aa5a03bb-834a-49d4-983d-cd0c0c32ce57"
      },
      "execution_count": null,
      "outputs": [
        {
          "output_type": "stream",
          "name": "stdout",
          "text": [
            "Enter the number for pattern:4\n",
            "****\n",
            "***\n",
            "**\n",
            "*\n",
            "**\n",
            "***\n",
            "****\n"
          ]
        }
      ]
    },
    {
      "cell_type": "markdown",
      "source": [
        "# Problem 2: Write a program to find the even number?"
      ],
      "metadata": {
        "id": "a2n8ypwoq9ut"
      }
    },
    {
      "cell_type": "code",
      "source": [
        "def fun2(num):\n",
        "  if num%2 == 0:\n",
        "    print(\"number is even\")\n",
        "  else:\n",
        "    print(\"number is odd\")\n",
        "\n",
        "\n"
      ],
      "metadata": {
        "id": "omCriAV-qi7l"
      },
      "execution_count": null,
      "outputs": []
    },
    {
      "cell_type": "code",
      "source": [
        "num = int(input(\"enter the number for pattern:\"))\n",
        "fun2(num)"
      ],
      "metadata": {
        "id": "HOGyur_8qfze",
        "colab": {
          "base_uri": "https://localhost:8080/"
        },
        "outputId": "d3460d32-e59c-4cbe-b6fa-5aa2b8143990"
      },
      "execution_count": null,
      "outputs": [
        {
          "output_type": "stream",
          "name": "stdout",
          "text": [
            "enter the number for pattern:101\n",
            "number is odd\n"
          ]
        }
      ]
    },
    {
      "cell_type": "code",
      "source": [
        "def fun3(num):\n",
        "  if num%2 !=0:\n",
        "    print(\"number is odd\")\n",
        "  else:\n",
        "    print(\"number is even\")"
      ],
      "metadata": {
        "id": "jfQcPQ8dJcss"
      },
      "execution_count": null,
      "outputs": []
    },
    {
      "cell_type": "code",
      "source": [
        "num =int(input(\"enter the number for pattern\"))\n",
        "fun3(num)"
      ],
      "metadata": {
        "colab": {
          "base_uri": "https://localhost:8080/"
        },
        "id": "N7CE9yQlIkkY",
        "outputId": "510382f0-5acc-4f06-8620-b3dfaac71055"
      },
      "execution_count": null,
      "outputs": [
        {
          "output_type": "stream",
          "name": "stdout",
          "text": [
            "enter the number for pattern101\n",
            "number is odd\n"
          ]
        }
      ]
    },
    {
      "cell_type": "code",
      "source": [],
      "metadata": {
        "id": "d3G9cWP7JybK"
      },
      "execution_count": null,
      "outputs": []
    },
    {
      "cell_type": "markdown",
      "source": [
        "#Problem 3: Make the irregular string right?\n",
        "\n",
        "    input: \"riYa is VerY cuTE\"\n",
        "    output: \"Riya Is Very Cute\""
      ],
      "metadata": {
        "id": "aI4-mHiFvDfm"
      }
    },
    {
      "cell_type": "code",
      "source": [
        "str1 = \"riYa is VerY cuTE\""
      ],
      "metadata": {
        "id": "oDnAV9CdLiaa"
      },
      "execution_count": null,
      "outputs": []
    },
    {
      "cell_type": "code",
      "source": [
        "def fun4(str1):\n",
        "  print(str1.title())\n",
        "\n"
      ],
      "metadata": {
        "id": "GqF3YMdlvXvn"
      },
      "execution_count": null,
      "outputs": []
    },
    {
      "cell_type": "code",
      "source": [
        "fun4(str1)"
      ],
      "metadata": {
        "colab": {
          "base_uri": "https://localhost:8080/"
        },
        "id": "leI3OMahL8xI",
        "outputId": "696131a5-d1b3-4a8d-ddcf-99132e11c3d9"
      },
      "execution_count": null,
      "outputs": [
        {
          "output_type": "stream",
          "name": "stdout",
          "text": [
            "Riya Is Very Cute\n"
          ]
        }
      ]
    },
    {
      "cell_type": "code",
      "source": [
        "fun4(\"hi my name is snow\")"
      ],
      "metadata": {
        "colab": {
          "base_uri": "https://localhost:8080/"
        },
        "id": "PCnHCbaOMG7u",
        "outputId": "9a6cf07a-6225-47ce-85e3-949b1b5b94fb"
      },
      "execution_count": null,
      "outputs": [
        {
          "output_type": "stream",
          "name": "stdout",
          "text": [
            "Hi My Name Is Snow\n"
          ]
        }
      ]
    },
    {
      "cell_type": "code",
      "source": [
        "fun4(\"\")"
      ],
      "metadata": {
        "colab": {
          "base_uri": "https://localhost:8080/"
        },
        "id": "Q7zkTr2IMgjN",
        "outputId": "4f349bf0-3110-416c-f188-0d19e8b82108"
      },
      "execution_count": null,
      "outputs": [
        {
          "output_type": "stream",
          "name": "stdout",
          "text": [
            "6\n"
          ]
        }
      ]
    },
    {
      "cell_type": "markdown",
      "source": [
        "# Problem 4:"
      ],
      "metadata": {
        "id": "i8YnpHbwLZMS"
      }
    },
    {
      "cell_type": "code",
      "source": [],
      "metadata": {
        "id": "SG2Duo2bLdiA"
      },
      "execution_count": null,
      "outputs": []
    }
  ]
}