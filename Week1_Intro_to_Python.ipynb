{
  "nbformat": 4,
  "nbformat_minor": 0,
  "metadata": {
    "colab": {
      "provenance": []
    },
    "kernelspec": {
      "name": "python3",
      "display_name": "Python 3"
    },
    "language_info": {
      "name": "python"
    }
  },
  "cells": [
    {
      "cell_type": "markdown",
      "source": [
        "# Markdown tutorial\n",
        "\n",
        "1. H1\n",
        "# This is the H1\n",
        "\n",
        "2. H2\n",
        "## This is the H2\n",
        "\n",
        "3. H3\n",
        "### This is the H3\n",
        "\n",
        "4. H4\n",
        "#### This is the H4"
      ],
      "metadata": {
        "id": "qJg0SYsnQR6e"
      }
    },
    {
      "cell_type": "markdown",
      "source": [
        "# Chapter 1: Print"
      ],
      "metadata": {
        "id": "7PJhov1AQxgq"
      }
    },
    {
      "cell_type": "code",
      "execution_count": null,
      "metadata": {
        "colab": {
          "base_uri": "https://localhost:8080/"
        },
        "id": "HC3BJESdPZ6g",
        "outputId": "7420542b-be90-49a5-df85-5c67010a8c74"
      },
      "outputs": [
        {
          "output_type": "stream",
          "name": "stdout",
          "text": [
            "1\n"
          ]
        }
      ],
      "source": [
        "# number\n",
        "print(1)"
      ]
    },
    {
      "cell_type": "code",
      "source": [
        "# Name\n",
        "print(\"Aditi\")"
      ],
      "metadata": {
        "colab": {
          "base_uri": "https://localhost:8080/"
        },
        "id": "sANhuJFeQ8jb",
        "outputId": "d13ad060-3928-4274-88e5-015fcf4fc0a3"
      },
      "execution_count": null,
      "outputs": [
        {
          "output_type": "stream",
          "name": "stdout",
          "text": [
            "Aditi\n"
          ]
        }
      ]
    },
    {
      "cell_type": "code",
      "source": [
        "Aditi = \"My name is Aditi\"\n",
        "print(Aditi)"
      ],
      "metadata": {
        "colab": {
          "base_uri": "https://localhost:8080/"
        },
        "id": "emNjqHwARIK4",
        "outputId": "cd255d6a-0c68-42bc-b17b-bda40d5a518e"
      },
      "execution_count": null,
      "outputs": [
        {
          "output_type": "stream",
          "name": "stdout",
          "text": [
            "My name is Aditi\n"
          ]
        }
      ]
    },
    {
      "cell_type": "code",
      "source": [
        "print(5+4)"
      ],
      "metadata": {
        "colab": {
          "base_uri": "https://localhost:8080/"
        },
        "id": "e1S7BfwRRQo9",
        "outputId": "fd23bc28-6284-4c4a-9ba0-e609aaded3c4"
      },
      "execution_count": null,
      "outputs": [
        {
          "output_type": "stream",
          "name": "stdout",
          "text": [
            "9\n"
          ]
        }
      ]
    },
    {
      "cell_type": "code",
      "source": [
        "aditi = 21\n",
        "riya = 24\n",
        "print(aditi+riya)"
      ],
      "metadata": {
        "colab": {
          "base_uri": "https://localhost:8080/"
        },
        "id": "2mqPKHPCRVq5",
        "outputId": "b6033e4a-0345-40db-ac48-32a7bff20590"
      },
      "execution_count": null,
      "outputs": [
        {
          "output_type": "stream",
          "name": "stdout",
          "text": [
            "45\n"
          ]
        }
      ]
    },
    {
      "cell_type": "markdown",
      "source": [
        "# Chapter 2: Variables, Operands, Operators and Functions"
      ],
      "metadata": {
        "id": "mwfx-SRoRiNJ"
      }
    },
    {
      "cell_type": "code",
      "source": [
        "# \"Snow\" is a variable\n",
        "Snow = \"He is the best Dog in the world.\""
      ],
      "metadata": {
        "id": "Ys8Z42nCRg8A"
      },
      "execution_count": null,
      "outputs": []
    },
    {
      "cell_type": "code",
      "source": [
        "Snow"
      ],
      "metadata": {
        "colab": {
          "base_uri": "https://localhost:8080/"
        },
        "id": "PKNeKjIFR6yq",
        "outputId": "db6732ee-52b8-4cb0-d82d-21a6b6659b96"
      },
      "execution_count": null,
      "outputs": [
        {
          "output_type": "execute_result",
          "data": {
            "text/plain": [
              "'He is the best Dog in the world.'"
            ],
            "application/vnd.google.colaboratory.intrinsic+json": {
              "type": "string"
            }
          },
          "metadata": {},
          "execution_count": 81
        }
      ]
    },
    {
      "cell_type": "code",
      "source": [
        "# Changing Variable\n",
        "Snow = \"Sweety\""
      ],
      "metadata": {
        "id": "idOQxBpzR83J"
      },
      "execution_count": null,
      "outputs": []
    },
    {
      "cell_type": "code",
      "source": [
        "Aditi = 29 + 8 + 2002"
      ],
      "metadata": {
        "id": "iZL31l2gSHrd"
      },
      "execution_count": null,
      "outputs": []
    },
    {
      "cell_type": "code",
      "source": [
        "Aditi"
      ],
      "metadata": {
        "colab": {
          "base_uri": "https://localhost:8080/"
        },
        "id": "CyDwLbOsSXaY",
        "outputId": "09492135-3548-4a7c-820c-91ecbda376a9"
      },
      "execution_count": null,
      "outputs": [
        {
          "output_type": "execute_result",
          "data": {
            "text/plain": [
              "2039"
            ]
          },
          "metadata": {},
          "execution_count": 84
        }
      ]
    },
    {
      "cell_type": "code",
      "source": [
        "type(Aditi*.5)"
      ],
      "metadata": {
        "colab": {
          "base_uri": "https://localhost:8080/"
        },
        "id": "rCecoFTuSiWh",
        "outputId": "caa35706-142f-4c4a-f203-d347aaa8ccec"
      },
      "execution_count": null,
      "outputs": [
        {
          "output_type": "execute_result",
          "data": {
            "text/plain": [
              "float"
            ]
          },
          "metadata": {},
          "execution_count": 85
        }
      ]
    },
    {
      "cell_type": "code",
      "source": [
        "type(Snow)"
      ],
      "metadata": {
        "colab": {
          "base_uri": "https://localhost:8080/"
        },
        "id": "pIq_Zq9yS0ue",
        "outputId": "4996ad08-8892-4fa0-9727-df60ff4a094e"
      },
      "execution_count": null,
      "outputs": [
        {
          "output_type": "execute_result",
          "data": {
            "text/plain": [
              "str"
            ]
          },
          "metadata": {},
          "execution_count": 86
        }
      ]
    },
    {
      "cell_type": "markdown",
      "source": [
        "# Chapter 3: String Indexing and Slicing"
      ],
      "metadata": {
        "id": "7cH5H6QhTIi0"
      }
    },
    {
      "cell_type": "code",
      "source": [
        "# My name is Ashu\n",
        "# My name is riya\n",
        "# My name is aditi\n",
        "\n",
        "str1 = \"HelloWorld\""
      ],
      "metadata": {
        "id": "f6B1ETwjTQ4M"
      },
      "execution_count": null,
      "outputs": []
    },
    {
      "cell_type": "code",
      "source": [
        "str1[0:5]"
      ],
      "metadata": {
        "colab": {
          "base_uri": "https://localhost:8080/"
        },
        "id": "Q5HhpIdHTgF8",
        "outputId": "fc2e7a84-27fd-4bea-9c98-c8bcf29694f9"
      },
      "execution_count": null,
      "outputs": [
        {
          "output_type": "execute_result",
          "data": {
            "text/plain": [
              "'Hello'"
            ],
            "application/vnd.google.colaboratory.intrinsic+json": {
              "type": "string"
            }
          },
          "metadata": {},
          "execution_count": 88
        }
      ]
    },
    {
      "cell_type": "code",
      "source": [
        "str1[-5:]"
      ],
      "metadata": {
        "colab": {
          "base_uri": "https://localhost:8080/"
        },
        "id": "DhHfLJ1tTsYJ",
        "outputId": "d7bb2c31-8562-40c7-d27c-37c2afc7a587"
      },
      "execution_count": null,
      "outputs": [
        {
          "output_type": "execute_result",
          "data": {
            "text/plain": [
              "'World'"
            ],
            "application/vnd.google.colaboratory.intrinsic+json": {
              "type": "string"
            }
          },
          "metadata": {},
          "execution_count": 89
        }
      ]
    },
    {
      "cell_type": "code",
      "source": [
        "print(str1)\n",
        "print(str1[::-1])"
      ],
      "metadata": {
        "colab": {
          "base_uri": "https://localhost:8080/"
        },
        "id": "V6b66kiLVQ-T",
        "outputId": "0d560f58-addb-4654-a3c4-ca2e935b69d5"
      },
      "execution_count": null,
      "outputs": [
        {
          "output_type": "stream",
          "name": "stdout",
          "text": [
            "HelloWorld\n",
            "dlroWolleH\n"
          ]
        }
      ]
    },
    {
      "cell_type": "markdown",
      "source": [
        "# Exercise 1: Print the first name from a string"
      ],
      "metadata": {
        "id": "I9-Zi3fRU8rc"
      }
    },
    {
      "cell_type": "code",
      "source": [
        "s1 = \"My name is Ashu\"\n",
        "s2 = \"My name is Riya\"\n",
        "s3 = \"My name is Aditi\""
      ],
      "metadata": {
        "id": "Eq3S_nyQT_Uf"
      },
      "execution_count": null,
      "outputs": []
    },
    {
      "cell_type": "code",
      "source": [
        "# Print only \"First Name\"\n",
        "print(s3[11:16])"
      ],
      "metadata": {
        "colab": {
          "base_uri": "https://localhost:8080/"
        },
        "id": "cdLwDVpyUzy4",
        "outputId": "9c50c7a9-a487-446d-bf19-7faf3c14a61e"
      },
      "execution_count": null,
      "outputs": [
        {
          "output_type": "stream",
          "name": "stdout",
          "text": [
            "Aditi\n"
          ]
        }
      ]
    },
    {
      "cell_type": "markdown",
      "source": [
        "# Chapter 4: String Concatenation and Repetition"
      ],
      "metadata": {
        "id": "mJxyHyDSVhbC"
      }
    },
    {
      "cell_type": "code",
      "source": [
        "# Concatenation\n",
        "\n",
        "First = 'Riya'\n",
        "Last = 'Revdiwala'\n",
        "\n",
        "print(First +\" \"+ Last)"
      ],
      "metadata": {
        "colab": {
          "base_uri": "https://localhost:8080/"
        },
        "id": "QAxGYrnIVoUx",
        "outputId": "1c382f81-1b46-4131-951b-9b224dfdd453"
      },
      "execution_count": null,
      "outputs": [
        {
          "output_type": "stream",
          "name": "stdout",
          "text": [
            "Riya Revdiwala\n"
          ]
        }
      ]
    },
    {
      "cell_type": "code",
      "source": [
        "# Repetition\n",
        "\n",
        "First = 'Aditi '\n",
        "\n",
        "print(First*2)"
      ],
      "metadata": {
        "colab": {
          "base_uri": "https://localhost:8080/"
        },
        "id": "IDmUC8IRV5z1",
        "outputId": "7adf0379-c75a-4a51-a1cc-a1294d578fec"
      },
      "execution_count": null,
      "outputs": [
        {
          "output_type": "stream",
          "name": "stdout",
          "text": [
            "Aditi Aditi \n"
          ]
        }
      ]
    },
    {
      "cell_type": "markdown",
      "source": [
        "# Chapter 5: Built-in Function"
      ],
      "metadata": {
        "id": "0IhTub1oWVS1"
      }
    },
    {
      "cell_type": "code",
      "source": [
        "str1 = 'Riya Revdiwala'\n",
        "str1"
      ],
      "metadata": {
        "colab": {
          "base_uri": "https://localhost:8080/"
        },
        "id": "DcjA2HdqWIqe",
        "outputId": "b3f18021-9f4e-4aa5-a8dd-5de1a693029b"
      },
      "execution_count": null,
      "outputs": [
        {
          "output_type": "execute_result",
          "data": {
            "text/plain": [
              "'Riya Revdiwala'"
            ],
            "application/vnd.google.colaboratory.intrinsic+json": {
              "type": "string"
            }
          },
          "metadata": {},
          "execution_count": 95
        }
      ]
    },
    {
      "cell_type": "code",
      "source": [
        "str1.upper()"
      ],
      "metadata": {
        "colab": {
          "base_uri": "https://localhost:8080/"
        },
        "id": "oWfiePhyWiMi",
        "outputId": "005d4cc0-1bc3-4801-94c0-2c5910d2e813"
      },
      "execution_count": null,
      "outputs": [
        {
          "output_type": "execute_result",
          "data": {
            "text/plain": [
              "'RIYA REVDIWALA'"
            ],
            "application/vnd.google.colaboratory.intrinsic+json": {
              "type": "string"
            }
          },
          "metadata": {},
          "execution_count": 96
        }
      ]
    },
    {
      "cell_type": "code",
      "source": [
        "str1.lower()"
      ],
      "metadata": {
        "colab": {
          "base_uri": "https://localhost:8080/"
        },
        "id": "JmqQexXGWkwb",
        "outputId": "a4518f71-e1dd-480b-8be9-dcca9fc39e7c"
      },
      "execution_count": null,
      "outputs": [
        {
          "output_type": "execute_result",
          "data": {
            "text/plain": [
              "'riya revdiwala'"
            ],
            "application/vnd.google.colaboratory.intrinsic+json": {
              "type": "string"
            }
          },
          "metadata": {},
          "execution_count": 97
        }
      ]
    },
    {
      "cell_type": "code",
      "source": [
        "str1.title()"
      ],
      "metadata": {
        "colab": {
          "base_uri": "https://localhost:8080/"
        },
        "id": "zSsQA5lVWm2Z",
        "outputId": "d659c705-b32d-45db-8e55-eca22fc97f2f"
      },
      "execution_count": null,
      "outputs": [
        {
          "output_type": "execute_result",
          "data": {
            "text/plain": [
              "'Riya Revdiwala'"
            ],
            "application/vnd.google.colaboratory.intrinsic+json": {
              "type": "string"
            }
          },
          "metadata": {},
          "execution_count": 98
        }
      ]
    },
    {
      "cell_type": "markdown",
      "source": [
        "# Chapter 6: Numbers"
      ],
      "metadata": {
        "id": "JWVkRa-BXCWF"
      }
    },
    {
      "cell_type": "code",
      "source": [
        "num1 = 32\n",
        "num2 = 3\n",
        "\n",
        "print(num1 + num2)\n",
        "print(num1 - num2)\n",
        "print(num1 * num2)\n",
        "print(num1 / num2)\n",
        "print(num1 // num2)\n",
        "print(num1 % num2)\n",
        "print(num1 ** num2)"
      ],
      "metadata": {
        "colab": {
          "base_uri": "https://localhost:8080/"
        },
        "id": "XEQcvqp1XD-m",
        "outputId": "3877def9-ca8e-4685-f946-5ef6db294c69"
      },
      "execution_count": null,
      "outputs": [
        {
          "output_type": "stream",
          "name": "stdout",
          "text": [
            "35\n",
            "29\n",
            "96\n",
            "10.666666666666666\n",
            "10\n",
            "2\n",
            "32768\n"
          ]
        }
      ]
    },
    {
      "cell_type": "markdown",
      "source": [
        "# Exercise 2: Find the numbers which are not divisible by 7"
      ],
      "metadata": {
        "id": "olnAfFewYUMk"
      }
    },
    {
      "cell_type": "code",
      "source": [
        "nums = [12, 75, 150, 180, 145, 525, 50]"
      ],
      "metadata": {
        "id": "CmnE4yPtX9Ru"
      },
      "execution_count": null,
      "outputs": []
    },
    {
      "cell_type": "code",
      "source": [
        "for i in nums:\n",
        "  if i%7 !=0:\n",
        "    print(i)"
      ],
      "metadata": {
        "colab": {
          "base_uri": "https://localhost:8080/"
        },
        "id": "jbJJLM4PYQMc",
        "outputId": "07d438a4-a909-455e-8f26-16a551dd1aa6"
      },
      "execution_count": null,
      "outputs": [
        {
          "output_type": "stream",
          "name": "stdout",
          "text": [
            "12\n",
            "75\n",
            "150\n",
            "180\n",
            "145\n",
            "50\n"
          ]
        }
      ]
    },
    {
      "cell_type": "code",
      "source": [],
      "metadata": {
        "id": "kCg97tUrabZe"
      },
      "execution_count": null,
      "outputs": []
    },
    {
      "cell_type": "markdown",
      "source": [],
      "metadata": {
        "id": "vCb2wAgIm77p"
      }
    },
    {
      "cell_type": "markdown",
      "source": [
        "# Chapter 7: Data Types"
      ],
      "metadata": {
        "id": "dPQ9sI6InC0L"
      }
    },
    {
      "cell_type": "code",
      "source": [
        "snow = 'Dog'\n",
        "type(snow)"
      ],
      "metadata": {
        "colab": {
          "base_uri": "https://localhost:8080/"
        },
        "id": "irbsUXk7nR7-",
        "outputId": "9251dba2-10a1-428a-d3cf-42cee10afa4f"
      },
      "execution_count": null,
      "outputs": [
        {
          "output_type": "execute_result",
          "data": {
            "text/plain": [
              "str"
            ]
          },
          "metadata": {},
          "execution_count": 102
        }
      ]
    },
    {
      "cell_type": "code",
      "source": [
        "snow = 9\n",
        "type(snow)"
      ],
      "metadata": {
        "colab": {
          "base_uri": "https://localhost:8080/"
        },
        "id": "LmneQ-cYnZnb",
        "outputId": "8c71b1ec-f2db-4a1d-fac7-2039e428f9c1"
      },
      "execution_count": null,
      "outputs": [
        {
          "output_type": "execute_result",
          "data": {
            "text/plain": [
              "int"
            ]
          },
          "metadata": {},
          "execution_count": 103
        }
      ]
    },
    {
      "cell_type": "code",
      "source": [
        "snow = 9.25\n",
        "type(snow)"
      ],
      "metadata": {
        "colab": {
          "base_uri": "https://localhost:8080/"
        },
        "id": "ADre_fEdncks",
        "outputId": "5b6e0a8c-cf2c-4dfd-b6ac-20527873a1e4"
      },
      "execution_count": null,
      "outputs": [
        {
          "output_type": "execute_result",
          "data": {
            "text/plain": [
              "float"
            ]
          },
          "metadata": {},
          "execution_count": 104
        }
      ]
    },
    {
      "cell_type": "code",
      "source": [
        "snow = True\n",
        "type(snow)"
      ],
      "metadata": {
        "colab": {
          "base_uri": "https://localhost:8080/"
        },
        "id": "ObzXJPjfnfJG",
        "outputId": "a6be4a7f-bbad-48dd-ff1d-1328d72ffc2e"
      },
      "execution_count": null,
      "outputs": [
        {
          "output_type": "execute_result",
          "data": {
            "text/plain": [
              "bool"
            ]
          },
          "metadata": {},
          "execution_count": 105
        }
      ]
    },
    {
      "cell_type": "code",
      "source": [
        "print(type(snow))"
      ],
      "metadata": {
        "colab": {
          "base_uri": "https://localhost:8080/"
        },
        "id": "bOKOqzz_ni1U",
        "outputId": "afe19471-9046-4882-d04a-7a87cff41a3e"
      },
      "execution_count": null,
      "outputs": [
        {
          "output_type": "stream",
          "name": "stdout",
          "text": [
            "<class 'bool'>\n"
          ]
        }
      ]
    },
    {
      "cell_type": "markdown",
      "source": [
        "# Chapter 8: Data Structures"
      ],
      "metadata": {
        "id": "UJ1egfsbn4I6"
      }
    },
    {
      "cell_type": "code",
      "source": [
        "# Collection of data types\n",
        "house = [\"Snow\", \"Riya\", \"Ashu\", \"Aditi\"]"
      ],
      "metadata": {
        "id": "DsUI7KifnzG1"
      },
      "execution_count": null,
      "outputs": []
    },
    {
      "cell_type": "code",
      "source": [
        "type(house)"
      ],
      "metadata": {
        "colab": {
          "base_uri": "https://localhost:8080/"
        },
        "id": "cp6Rnq7-ocTo",
        "outputId": "0edccc76-750a-41bf-b7ef-4035c859d4a8"
      },
      "execution_count": null,
      "outputs": [
        {
          "output_type": "execute_result",
          "data": {
            "text/plain": [
              "list"
            ]
          },
          "metadata": {},
          "execution_count": 108
        }
      ]
    },
    {
      "cell_type": "code",
      "source": [
        "type(house[0])"
      ],
      "metadata": {
        "colab": {
          "base_uri": "https://localhost:8080/"
        },
        "id": "pT6JdoSboebg",
        "outputId": "03ec0960-0bd0-4d1c-eccf-c75bf8551d39"
      },
      "execution_count": null,
      "outputs": [
        {
          "output_type": "execute_result",
          "data": {
            "text/plain": [
              "str"
            ]
          },
          "metadata": {},
          "execution_count": 109
        }
      ]
    },
    {
      "cell_type": "code",
      "source": [
        "# dict --> Key, value pair\n",
        "age = {\"Ashu\": 25, \"Riya\": 24, \"Aditi\": 22}"
      ],
      "metadata": {
        "id": "i6P6_xj9oj26"
      },
      "execution_count": null,
      "outputs": []
    },
    {
      "cell_type": "code",
      "source": [
        "type(age)"
      ],
      "metadata": {
        "colab": {
          "base_uri": "https://localhost:8080/"
        },
        "id": "Nf78cNNRpIxd",
        "outputId": "1ae6e568-a181-4d44-b41e-a49d021934ef"
      },
      "execution_count": null,
      "outputs": [
        {
          "output_type": "execute_result",
          "data": {
            "text/plain": [
              "dict"
            ]
          },
          "metadata": {},
          "execution_count": 111
        }
      ]
    },
    {
      "cell_type": "code",
      "source": [
        "type(age['Aditi'])"
      ],
      "metadata": {
        "colab": {
          "base_uri": "https://localhost:8080/"
        },
        "id": "DE09e_R8pNkF",
        "outputId": "e5e007e4-ca07-4e55-f946-262ea735d1ac"
      },
      "execution_count": null,
      "outputs": [
        {
          "output_type": "execute_result",
          "data": {
            "text/plain": [
              "int"
            ]
          },
          "metadata": {},
          "execution_count": 112
        }
      ]
    },
    {
      "cell_type": "code",
      "source": [
        "# Tuple\n",
        "t1 = (\"Snow\", \"Riya\", \"Ashu\", \"Aditi\")"
      ],
      "metadata": {
        "id": "eCJvHsHjpRXk"
      },
      "execution_count": null,
      "outputs": []
    },
    {
      "cell_type": "code",
      "source": [
        "type(t1)"
      ],
      "metadata": {
        "colab": {
          "base_uri": "https://localhost:8080/"
        },
        "id": "VhhfdvqjpjDQ",
        "outputId": "77570a60-639c-4481-cac6-84ce2334afc9"
      },
      "execution_count": null,
      "outputs": [
        {
          "output_type": "execute_result",
          "data": {
            "text/plain": [
              "tuple"
            ]
          },
          "metadata": {},
          "execution_count": 114
        }
      ]
    },
    {
      "cell_type": "code",
      "source": [
        "t1[0]"
      ],
      "metadata": {
        "colab": {
          "base_uri": "https://localhost:8080/"
        },
        "id": "c_ugLyHCpkIM",
        "outputId": "07b09baf-1acd-4a85-a5ce-fc0eefafb4d4"
      },
      "execution_count": null,
      "outputs": [
        {
          "output_type": "execute_result",
          "data": {
            "text/plain": [
              "'Snow'"
            ],
            "application/vnd.google.colaboratory.intrinsic+json": {
              "type": "string"
            }
          },
          "metadata": {},
          "execution_count": 115
        }
      ]
    },
    {
      "cell_type": "code",
      "source": [
        "# Set\n",
        "list1 = [1,2,3,4,6]"
      ],
      "metadata": {
        "id": "mlq9FrJRpmJE"
      },
      "execution_count": null,
      "outputs": []
    },
    {
      "cell_type": "code",
      "source": [
        "set1 = set(list1)"
      ],
      "metadata": {
        "id": "YZBQHkIpp37z"
      },
      "execution_count": null,
      "outputs": []
    },
    {
      "cell_type": "code",
      "source": [
        "list(set1)"
      ],
      "metadata": {
        "colab": {
          "base_uri": "https://localhost:8080/"
        },
        "id": "AKqWU34YqjTZ",
        "outputId": "0d559310-67d3-47ec-bb51-ef1eaaa118db"
      },
      "execution_count": null,
      "outputs": [
        {
          "output_type": "execute_result",
          "data": {
            "text/plain": [
              "[1, 2, 3, 4, 6]"
            ]
          },
          "metadata": {},
          "execution_count": 118
        }
      ]
    },
    {
      "cell_type": "code",
      "source": [
        "list1"
      ],
      "metadata": {
        "colab": {
          "base_uri": "https://localhost:8080/"
        },
        "id": "HuMwoCcHq0Fk",
        "outputId": "e892d137-4982-414e-ef23-ff223c133fe6"
      },
      "execution_count": null,
      "outputs": [
        {
          "output_type": "execute_result",
          "data": {
            "text/plain": [
              "[1, 2, 3, 4, 6]"
            ]
          },
          "metadata": {},
          "execution_count": 119
        }
      ]
    },
    {
      "cell_type": "code",
      "source": [
        "type(set1)"
      ],
      "metadata": {
        "colab": {
          "base_uri": "https://localhost:8080/"
        },
        "id": "xOHz53EWp4-u",
        "outputId": "e2bdacab-a6b4-4ce9-c415-1f550ac21fcc"
      },
      "execution_count": null,
      "outputs": [
        {
          "output_type": "execute_result",
          "data": {
            "text/plain": [
              "set"
            ]
          },
          "metadata": {},
          "execution_count": 120
        }
      ]
    },
    {
      "cell_type": "markdown",
      "source": [
        "# Chapter 9: Python Constructors"
      ],
      "metadata": {
        "id": "YTSA5M-oqRpY"
      }
    },
    {
      "cell_type": "code",
      "source": [
        "if list1 == list(set1):\n",
        "  print(\"same\")\n",
        "else:\n",
        "  print(\"not same\")"
      ],
      "metadata": {
        "colab": {
          "base_uri": "https://localhost:8080/"
        },
        "id": "EDTSL1dFqXli",
        "outputId": "0859e1bf-3953-4f31-cccf-e3c406b48ca5"
      },
      "execution_count": null,
      "outputs": [
        {
          "output_type": "stream",
          "name": "stdout",
          "text": [
            "same\n"
          ]
        }
      ]
    },
    {
      "cell_type": "code",
      "source": [
        "age['Aditi'] = 20"
      ],
      "metadata": {
        "id": "mht3AL1frgXt"
      },
      "execution_count": null,
      "outputs": []
    },
    {
      "cell_type": "code",
      "source": [
        "if age['Aditi'] < 21:\n",
        "  print('No drink')\n",
        "elif age['Aditi'] == 21:\n",
        "  print('Less drink')\n",
        "else:\n",
        "  print('More drink')"
      ],
      "metadata": {
        "colab": {
          "base_uri": "https://localhost:8080/"
        },
        "id": "Na6UpTvUquBM",
        "outputId": "540ce356-50c0-462e-e9db-f70f0b1077b5"
      },
      "execution_count": null,
      "outputs": [
        {
          "output_type": "stream",
          "name": "stdout",
          "text": [
            "No drink\n"
          ]
        }
      ]
    },
    {
      "cell_type": "code",
      "source": [
        "for i in range(1,10,2):\n",
        "  print(i)"
      ],
      "metadata": {
        "colab": {
          "base_uri": "https://localhost:8080/"
        },
        "id": "cSRlSvgFrdP9",
        "outputId": "c7670109-2abd-4645-a82c-520b73ffb887"
      },
      "execution_count": null,
      "outputs": [
        {
          "output_type": "stream",
          "name": "stdout",
          "text": [
            "1\n",
            "3\n",
            "5\n",
            "7\n",
            "9\n"
          ]
        }
      ]
    },
    {
      "cell_type": "markdown",
      "source": [
        "# Exercise 3: Print odd number from 1 to 9 in reverse order?"
      ],
      "metadata": {
        "id": "CFY7NNqesd8U"
      }
    },
    {
      "cell_type": "code",
      "source": [
        "# 9,7,5,3,1\n",
        "# 9,7,5,3,1\n",
        "# your code goes here\n",
        "\n",
        "for i in range(1,10,2):\n",
        "  print(10-i)"
      ],
      "metadata": {
        "colab": {
          "base_uri": "https://localhost:8080/"
        },
        "id": "0UtQJgx4sJ8p",
        "outputId": "6ae7597d-362c-49d9-cf3a-ff3e93757bdf"
      },
      "execution_count": null,
      "outputs": [
        {
          "output_type": "stream",
          "name": "stdout",
          "text": [
            "9\n",
            "7\n",
            "5\n",
            "3\n",
            "1\n"
          ]
        }
      ]
    },
    {
      "cell_type": "code",
      "source": [
        "l1 = [1,22,342,35,456,236]\n",
        "for i in l1:\n",
        "  print(i)"
      ],
      "metadata": {
        "colab": {
          "base_uri": "https://localhost:8080/"
        },
        "id": "V8yasUA2srWL",
        "outputId": "00694e18-af9c-4628-dbf5-fa4aa5b9c13b"
      },
      "execution_count": null,
      "outputs": [
        {
          "output_type": "stream",
          "name": "stdout",
          "text": [
            "1\n",
            "22\n",
            "342\n",
            "35\n",
            "456\n",
            "236\n"
          ]
        }
      ]
    },
    {
      "cell_type": "code",
      "source": [
        "for i,v in enumerate(l1):\n",
        "  print(i,v)"
      ],
      "metadata": {
        "colab": {
          "base_uri": "https://localhost:8080/"
        },
        "id": "oaZLt2n2s6L-",
        "outputId": "e380c754-39aa-48aa-cac5-d52cf6fd7b6d"
      },
      "execution_count": null,
      "outputs": [
        {
          "output_type": "stream",
          "name": "stdout",
          "text": [
            "0 1\n",
            "1 22\n",
            "2 342\n",
            "3 35\n",
            "4 456\n",
            "5 236\n"
          ]
        }
      ]
    },
    {
      "cell_type": "code",
      "source": [
        "aditi = 0\n",
        "while aditi < 21:\n",
        "  print(f\"No drinking she is {aditi} years old\")\n",
        "  aditi = aditi + 1\n",
        "print(f\"Now she can drink, she is {aditi} years old\")"
      ],
      "metadata": {
        "colab": {
          "base_uri": "https://localhost:8080/"
        },
        "id": "88p5vNd9tNqs",
        "outputId": "4270286a-726d-40a4-a5ca-7ed85bba8e9e"
      },
      "execution_count": null,
      "outputs": [
        {
          "output_type": "stream",
          "name": "stdout",
          "text": [
            "No drinking she is 0 years old\n",
            "No drinking she is 1 years old\n",
            "No drinking she is 2 years old\n",
            "No drinking she is 3 years old\n",
            "No drinking she is 4 years old\n",
            "No drinking she is 5 years old\n",
            "No drinking she is 6 years old\n",
            "No drinking she is 7 years old\n",
            "No drinking she is 8 years old\n",
            "No drinking she is 9 years old\n",
            "No drinking she is 10 years old\n",
            "No drinking she is 11 years old\n",
            "No drinking she is 12 years old\n",
            "No drinking she is 13 years old\n",
            "No drinking she is 14 years old\n",
            "No drinking she is 15 years old\n",
            "No drinking she is 16 years old\n",
            "No drinking she is 17 years old\n",
            "No drinking she is 18 years old\n",
            "No drinking she is 19 years old\n",
            "No drinking she is 20 years old\n",
            "Now she can drink, she is 21 years old\n"
          ]
        }
      ]
    },
    {
      "cell_type": "code",
      "source": [
        "hello = ['Hello ' + i for i in house]\n",
        "print(hello)"
      ],
      "metadata": {
        "colab": {
          "base_uri": "https://localhost:8080/"
        },
        "id": "YfpWNuoytwGG",
        "outputId": "c116df05-1da7-4f18-ac90-6923171db281"
      },
      "execution_count": null,
      "outputs": [
        {
          "output_type": "stream",
          "name": "stdout",
          "text": [
            "['Hello Snow', 'Hello Riya', 'Hello Ashu', 'Hello Aditi']\n"
          ]
        }
      ]
    },
    {
      "cell_type": "markdown",
      "source": [
        "# Chapter 10: Libraries, Modules and Packages"
      ],
      "metadata": {
        "id": "mkFZWfxHutGQ"
      }
    },
    {
      "cell_type": "code",
      "source": [
        "import math"
      ],
      "metadata": {
        "id": "V0FeOQY4ucVt"
      },
      "execution_count": null,
      "outputs": []
    },
    {
      "cell_type": "code",
      "source": [
        "num = 9.459\n",
        "print(math.ceil(num))\n",
        "print(math.floor(num))"
      ],
      "metadata": {
        "colab": {
          "base_uri": "https://localhost:8080/"
        },
        "id": "jdqzev4jvLok",
        "outputId": "8b973219-4466-4098-b59c-59024ad725bb"
      },
      "execution_count": null,
      "outputs": [
        {
          "output_type": "stream",
          "name": "stdout",
          "text": [
            "10\n",
            "9\n"
          ]
        }
      ]
    },
    {
      "cell_type": "code",
      "source": [
        "math.log10(num)"
      ],
      "metadata": {
        "colab": {
          "base_uri": "https://localhost:8080/"
        },
        "id": "6WV-khTMvgy8",
        "outputId": "5abce5af-75e6-4c35-f2cb-00eefa11b4a6"
      },
      "execution_count": null,
      "outputs": [
        {
          "output_type": "execute_result",
          "data": {
            "text/plain": [
              "0.9758452254675671"
            ]
          },
          "metadata": {},
          "execution_count": 132
        }
      ]
    },
    {
      "cell_type": "code",
      "source": [
        "import statistics as s\n",
        "\n",
        "l1 = [1,1,2,3,4,5]\n",
        "list(str(float(10*(math.ceil(s.median(l1))))))"
      ],
      "metadata": {
        "colab": {
          "base_uri": "https://localhost:8080/"
        },
        "id": "bcs2jKq1vp2Q",
        "outputId": "189aa49c-3caa-4fab-e028-08f04c8f3f06"
      },
      "execution_count": null,
      "outputs": [
        {
          "output_type": "execute_result",
          "data": {
            "text/plain": [
              "['3', '0', '.', '0']"
            ]
          },
          "metadata": {},
          "execution_count": 133
        }
      ]
    },
    {
      "cell_type": "markdown",
      "source": [
        "# Exercise 4: Write all the letter of string \"United States\""
      ],
      "metadata": {
        "id": "lqDpyDZJwugQ"
      }
    },
    {
      "cell_type": "code",
      "source": [
        "# ['U','n','i'........]\n",
        "str1 = \"United States\"\n",
        "\n",
        "print(list(str1))"
      ],
      "metadata": {
        "colab": {
          "base_uri": "https://localhost:8080/"
        },
        "id": "GIrQBsbOvz8p",
        "outputId": "b905ff99-ee1b-43b3-a5ac-5b65e303ec4b"
      },
      "execution_count": null,
      "outputs": [
        {
          "output_type": "stream",
          "name": "stdout",
          "text": [
            "['U', 'n', 'i', 't', 'e', 'd', ' ', 'S', 't', 'a', 't', 'e', 's']\n"
          ]
        }
      ]
    }
  ]
}