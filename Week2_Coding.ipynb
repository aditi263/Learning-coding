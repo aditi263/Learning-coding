{
 "cells": [
  {
   "cell_type": "markdown",
   "metadata": {
    "id": "O5pG8PqDlkvr"
   },
   "source": [
    "# Problem 1:\n",
    "\n",
    "Write a program to print following pattern:\n",
    "\n",
    "*****\n",
    "****\n",
    "***\n",
    "**\n",
    "*\n",
    "\n"
   ]
  },
  {
   "cell_type": "code",
   "execution_count": null,
   "metadata": {
    "id": "K8Q4QRsdlgzX"
   },
   "outputs": [],
   "source": [
    "# *****\n",
    "# ****\n",
    "# ***\n",
    "# **\n",
    "# *"
   ]
  },
  {
   "cell_type": "code",
   "execution_count": null,
   "metadata": {
    "colab": {
     "base_uri": "https://localhost:8080/"
    },
    "id": "JpyCA7sYmUUv",
    "outputId": "45029a95-04bf-4c19-80ef-bd358039a607"
   },
   "outputs": [
    {
     "name": "stdout",
     "output_type": "stream",
     "text": [
      "*****\n",
      "****\n",
      "***\n",
      "**\n",
      "*\n"
     ]
    }
   ],
   "source": [
    "for i in range(5,0,-1):\n",
    "  print('*'*i)"
   ]
  },
  {
   "cell_type": "code",
   "execution_count": null,
   "metadata": {
    "id": "74MZcISenl3v"
   },
   "outputs": [],
   "source": [
    "# *****\n",
    "# ****2\n",
    "# ***\n",
    "# **\n",
    "# *\n",
    "# **\n",
    "# ***\n",
    "# ****\n",
    "# *****"
   ]
  },
  {
   "cell_type": "code",
   "execution_count": null,
   "metadata": {
    "colab": {
     "base_uri": "https://localhost:8080/"
    },
    "id": "enX2CUOcoH0D",
    "outputId": "86c345c5-50d5-4025-8f2d-1be4d2bc2b23"
   },
   "outputs": [
    {
     "name": "stdout",
     "output_type": "stream",
     "text": [
      "*****\n",
      "****\n",
      "***\n",
      "**\n",
      "*\n",
      "**\n",
      "***\n",
      "****\n",
      "*****\n"
     ]
    }
   ],
   "source": [
    "for i in range(5,0,-1):\n",
    "  print('*'*i)\n",
    "for i in range(2,6,1):\n",
    "  print('*'*i)"
   ]
  },
  {
   "cell_type": "code",
   "execution_count": null,
   "metadata": {
    "id": "JnKfC14cqM1e"
   },
   "outputs": [],
   "source": [
    "def fun1(num):\n",
    "  for i in range(num,0,-1):\n",
    "    print('*'*i)\n",
    "  for i in range(2,num+1,1):\n",
    "    print('*'*i)"
   ]
  },
  {
   "cell_type": "code",
   "execution_count": null,
   "metadata": {
    "colab": {
     "base_uri": "https://localhost:8080/"
    },
    "id": "qx-Ym3tfEYSb",
    "outputId": "aa5a03bb-834a-49d4-983d-cd0c0c32ce57"
   },
   "outputs": [
    {
     "name": "stdout",
     "output_type": "stream",
     "text": [
      "Enter the number for pattern:4\n",
      "****\n",
      "***\n",
      "**\n",
      "*\n",
      "**\n",
      "***\n",
      "****\n"
     ]
    }
   ],
   "source": [
    "num = int(input(\"Enter the number for pattern:\"))\n",
    "fun1(num)"
   ]
  },
  {
   "cell_type": "markdown",
   "metadata": {
    "id": "a2n8ypwoq9ut"
   },
   "source": [
    "# Problem 2: Write a program to find the even number?"
   ]
  },
  {
   "cell_type": "code",
   "execution_count": null,
   "metadata": {
    "id": "omCriAV-qi7l"
   },
   "outputs": [],
   "source": [
    "def fun2(num):\n",
    "  if num%2 == 0:\n",
    "    print(\"number is even\")\n",
    "  else:\n",
    "    print(\"number is odd\")\n",
    "\n",
    "\n"
   ]
  },
  {
   "cell_type": "code",
   "execution_count": null,
   "metadata": {
    "colab": {
     "base_uri": "https://localhost:8080/"
    },
    "id": "HOGyur_8qfze",
    "outputId": "d3460d32-e59c-4cbe-b6fa-5aa2b8143990"
   },
   "outputs": [
    {
     "name": "stdout",
     "output_type": "stream",
     "text": [
      "enter the number for pattern:101\n",
      "number is odd\n"
     ]
    }
   ],
   "source": [
    "num = int(input(\"enter the number for pattern:\"))\n",
    "fun2(num)"
   ]
  },
  {
   "cell_type": "code",
   "execution_count": null,
   "metadata": {
    "id": "jfQcPQ8dJcss"
   },
   "outputs": [],
   "source": [
    "def fun3(num):\n",
    "  if num%2 !=0:\n",
    "    print(\"number is odd\")\n",
    "  else:\n",
    "    print(\"number is even\")"
   ]
  },
  {
   "cell_type": "code",
   "execution_count": null,
   "metadata": {
    "colab": {
     "base_uri": "https://localhost:8080/"
    },
    "id": "N7CE9yQlIkkY",
    "outputId": "510382f0-5acc-4f06-8620-b3dfaac71055"
   },
   "outputs": [
    {
     "name": "stdout",
     "output_type": "stream",
     "text": [
      "enter the number for pattern101\n",
      "number is odd\n"
     ]
    }
   ],
   "source": [
    "num =int(input(\"enter the number for pattern\"))\n",
    "fun3(num)"
   ]
  },
  {
   "cell_type": "code",
   "execution_count": null,
   "metadata": {
    "id": "d3G9cWP7JybK"
   },
   "outputs": [],
   "source": []
  },
  {
   "cell_type": "markdown",
   "metadata": {
    "id": "aI4-mHiFvDfm"
   },
   "source": [
    "#Problem 3: Make the irregular string right?\n",
    "\n",
    "    input: \"riYa is VerY cuTE\"\n",
    "    output: \"Riya Is Very Cute\""
   ]
  },
  {
   "cell_type": "code",
   "execution_count": null,
   "metadata": {
    "id": "oDnAV9CdLiaa"
   },
   "outputs": [],
   "source": [
    "str1 = \"riYa is VerY cuTE\""
   ]
  },
  {
   "cell_type": "code",
   "execution_count": null,
   "metadata": {
    "id": "GqF3YMdlvXvn"
   },
   "outputs": [],
   "source": [
    "def fun4(str1):\n",
    "  print(str1.title())\n",
    "\n"
   ]
  },
  {
   "cell_type": "code",
   "execution_count": null,
   "metadata": {
    "colab": {
     "base_uri": "https://localhost:8080/"
    },
    "id": "leI3OMahL8xI",
    "outputId": "696131a5-d1b3-4a8d-ddcf-99132e11c3d9"
   },
   "outputs": [
    {
     "name": "stdout",
     "output_type": "stream",
     "text": [
      "Riya Is Very Cute\n"
     ]
    }
   ],
   "source": [
    "fun4(str1)"
   ]
  },
  {
   "cell_type": "code",
   "execution_count": null,
   "metadata": {
    "colab": {
     "base_uri": "https://localhost:8080/"
    },
    "id": "PCnHCbaOMG7u",
    "outputId": "9a6cf07a-6225-47ce-85e3-949b1b5b94fb"
   },
   "outputs": [
    {
     "name": "stdout",
     "output_type": "stream",
     "text": [
      "Hi My Name Is Snow\n"
     ]
    }
   ],
   "source": [
    "fun4(\"hi my name is snow\")"
   ]
  },
  {
   "cell_type": "code",
   "execution_count": null,
   "metadata": {
    "colab": {
     "base_uri": "https://localhost:8080/"
    },
    "id": "Q7zkTr2IMgjN",
    "outputId": "4f349bf0-3110-416c-f188-0d19e8b82108"
   },
   "outputs": [
    {
     "name": "stdout",
     "output_type": "stream",
     "text": [
      "6\n"
     ]
    }
   ],
   "source": [
    "fun4(\"\")"
   ]
  },
  {
   "cell_type": "markdown",
   "metadata": {
    "id": "i8YnpHbwLZMS"
   },
   "source": [
    "# Problem 4: Given an array of integers nums and an integer target, return indices of the two numbers such that they add up to target.\n",
    "\n",
    "You may assume that each input would have exactly one solution, and you may not use the same element twice.\n",
    "\n",
    "You can return the answer in any order.\n",
    "\n",
    "\n",
    "\n",
    "Example 1:\n",
    "\n",
    "Input: nums = [2,7,11,15], target = 9\n",
    "Output: [0,1]\n",
    "Explanation: Because nums[0] + nums[1] == 9, we return [0, 1].\n",
    "Example 2:\n",
    "\n",
    "Input: nums = [3,2,4], target = 6\n",
    "Output: [1,2]\n",
    "Example 3:\n",
    "\n",
    "Input: nums = [3,3], target = 6\n",
    "Output: [0,1]"
   ]
  },
  {
   "cell_type": "code",
   "execution_count": 21,
   "metadata": {
    "id": "SG2Duo2bLdiA"
   },
   "outputs": [],
   "source": [
    "nums = [2,7,11,15]\n",
    "target = 9\n",
    "def fun1(nums):\n",
    "    for i,v in enumerate(nums):\n",
    "        if target - v in nums:\n",
    "            x = i\n",
    "            y = nums.index(target - v)\n",
    "            return [x,y]\n",
    "        "
   ]
  },
  {
   "cell_type": "code",
   "execution_count": 23,
   "metadata": {},
   "outputs": [
    {
     "data": {
      "text/plain": [
       "[0, 1]"
      ]
     },
     "execution_count": 23,
     "metadata": {},
     "output_type": "execute_result"
    }
   ],
   "source": [
    "fun1(nums)"
   ]
  },
  {
   "cell_type": "code",
   "execution_count": null,
   "metadata": {},
   "outputs": [],
   "source": []
  }
 ],
 "metadata": {
  "colab": {
   "provenance": []
  },
  "kernelspec": {
   "display_name": "Python [conda env:base] *",
   "language": "python",
   "name": "conda-base-py"
  },
  "language_info": {
   "codemirror_mode": {
    "name": "ipython",
    "version": 3
   },
   "file_extension": ".py",
   "mimetype": "text/x-python",
   "name": "python",
   "nbconvert_exporter": "python",
   "pygments_lexer": "ipython3",
   "version": "3.12.7"
  }
 },
 "nbformat": 4,
 "nbformat_minor": 4
}
